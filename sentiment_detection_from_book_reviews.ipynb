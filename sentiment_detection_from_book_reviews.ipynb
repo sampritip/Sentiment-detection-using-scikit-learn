{
  "nbformat": 4,
  "nbformat_minor": 0,
  "metadata": {
    "colab": {
      "name": "sentiment_detection_from_book_reviews.ipynb",
      "provenance": [],
      "collapsed_sections": []
    },
    "kernelspec": {
      "name": "python3",
      "display_name": "Python 3"
    }
  },
  "cells": [
    {
      "cell_type": "code",
      "metadata": {
        "id": "o25sXAvvuPsC"
      },
      "source": [
        "import random\n",
        "class Sentiment:\n",
        "  negative= \"NEGATIVE\"\n",
        "  positive= \"POSITIVE\"\n",
        "  neutral= \"NEUTRAL\"\n",
        "class Review:\n",
        "  def __init__(self,text,rate):\n",
        "    self.text=text;\n",
        "    self.rate=rate;\n",
        "    self.sentiment= self.get_sentiment()\n",
        "  def get_sentiment(self):\n",
        "    if self.rate <=2:\n",
        "      return Sentiment.negative\n",
        "    elif self.rate == 3:\n",
        "      return Sentiment.neutral\n",
        "    else:\n",
        "      return Sentiment.positive \n",
        "\n",
        "class Reviewsfilter:\n",
        "  def __init__(self,reviews):\n",
        "    self.reviews= reviews\n",
        "  def get_text(self):\n",
        "    return [x.text for x in self.reviews]\n",
        "  def get_sentiment(self):\n",
        "    return [x.text for x in self.reviews]\n",
        "  def evenly_distribute(self):\n",
        "    negative = list(filter(lambda x: x.sentiment== Sentiment.negative,self.reviews))\n",
        "    positive = list(filter(lambda x: x.sentiment== Sentiment.positive,self.reviews))\n",
        " #shrinking positive examples\n",
        "    positive_shrunk= positive[:len(negative)] # from 0 to as many elemnts that negative has\n",
        "    self.reviews= positive_shrunk + negative\n",
        "    \n",
        "    random.shuffle(self.reviews)"
      ],
      "execution_count": null,
      "outputs": []
    },
    {
      "cell_type": "code",
      "metadata": {
        "id": "PnRCJGglsMqR",
        "colab": {
          "base_uri": "https://localhost:8080/",
          "height": 35
        },
        "outputId": "2d025b64-9159-4bcc-d4ca-b58efd55ca51"
      },
      "source": [
        "import json\n",
        "reviews=[]\n",
        "with open('Books_small_10000.json') as f:\n",
        "  for line in f:\n",
        "    r= json.loads(line)\n",
        "    reviews.append(Review(r['reviewText'],r['overall']))\n",
        "reviews[2].sentiment"
      ],
      "execution_count": null,
      "outputs": [
        {
          "output_type": "execute_result",
          "data": {
            "application/vnd.google.colaboratory.intrinsic+json": {
              "type": "string"
            },
            "text/plain": [
              "'POSITIVE'"
            ]
          },
          "metadata": {
            "tags": []
          },
          "execution_count": 3
        }
      ]
    },
    {
      "cell_type": "code",
      "metadata": {
        "id": "0NXFWq-uuRjj"
      },
      "source": [
        "from sklearn.model_selection import train_test_split\n",
        "#two types of splits, one with passing X and y separately\n",
        "train, test = train_test_split(reviews,test_size=0.33,random_state=42)\n",
        "train_container=Reviewsfilter(train)\n",
        "test_container=Reviewsfilter(test)\n",
        "\n",
        "\n",
        "#len(test_container.reviews)\n"
      ],
      "execution_count": null,
      "outputs": []
    },
    {
      "cell_type": "code",
      "metadata": {
        "id": "_RMQTf8P-3vY"
      },
      "source": [
        "train_container.evenly_distribute()\n",
        "X_train= train_container.get_text()\n",
        "Y_train= train_container.get_sentiment()\n",
        "X_test= test_container.get_text()\n",
        "Y_test= test_container.get_sentiment()\n"
      ],
      "execution_count": null,
      "outputs": []
    },
    {
      "cell_type": "code",
      "metadata": {
        "id": "4MOwq9ijuTif"
      },
      "source": [
        "#len(train)\n",
        "#print(train[77].text)\n",
        "#splitting data\n",
        "#X_train= [temp.text for temp in train]\n",
        "#Y_train= [temp.sentiment for temp in train]\n",
        "#X_test=  [temp.text for temp in test]\n",
        "#Y_test=  [temp.sentiment for temp in test]\n",
        "#X_train[0]\n",
        "#Y_train[0]"
      ],
      "execution_count": null,
      "outputs": []
    },
    {
      "cell_type": "code",
      "metadata": {
        "id": "KeEi8HJr42LD"
      },
      "source": [
        "from sklearn.feature_extraction.text import CountVectorizer\n",
        "vectorizer= CountVectorizer()\n",
        "BOW_X_train=vectorizer.fit_transform(X_train) #bag of words for X training. Creates an array of words\n",
        "#print(BOW_X_train.vocabulary_) #fit just creates a vocabulary\n",
        "#use transform to to encode/tokenize a document(has to be a raw document_)\n",
        "BOW_X_test= vectorizer.transform(X_test)\n",
        "\n",
        "\n",
        "#BOW_X_test= vectorizer.fit_transform(X_test)\n",
        "#print(BOW_X_train[0].toarray())\n",
        "#print(X[0])\n"
      ],
      "execution_count": null,
      "outputs": []
    },
    {
      "cell_type": "markdown",
      "metadata": {
        "id": "DeC2EWXvuBf1"
      },
      "source": [
        "Predicting using different models"
      ]
    },
    {
      "cell_type": "code",
      "metadata": {
        "id": "jZOePuAegjO_",
        "colab": {
          "base_uri": "https://localhost:8080/"
        },
        "outputId": "cec4a85d-00e6-46dd-a7d5-61f638c69ac9"
      },
      "source": [
        "#SVM CLASSIFIER\n",
        "\n",
        "from sklearn.svm import SVC\n",
        "svm_model= SVC(kernel='linear') #classifier\n",
        "svm_model.fit(BOW_X_train, Y_train)\n",
        "print(X_test[1])\n",
        "print(Y_test[1])\n",
        "svm_model.predict(BOW_X_test[1])\n"
      ],
      "execution_count": null,
      "outputs": [
        {
          "output_type": "stream",
          "text": [
            "Yet another wonderful book by Elle. I really hope there are more in this series. They're lol funny, have you in tears, and have your nerves going all in one. I normally don't write reviews (I always rare, which Elle is almost always a five star in my opinion), but as other reviewers said, this was the best out of the three. And there could be so much more to their stories....I want to know more!!! Keep up the wonderful writing Elle. I love your work.\n",
            "Yet another wonderful book by Elle. I really hope there are more in this series. They're lol funny, have you in tears, and have your nerves going all in one. I normally don't write reviews (I always rare, which Elle is almost always a five star in my opinion), but as other reviewers said, this was the best out of the three. And there could be so much more to their stories....I want to know more!!! Keep up the wonderful writing Elle. I love your work.\n"
          ],
          "name": "stdout"
        },
        {
          "output_type": "execute_result",
          "data": {
            "text/plain": [
              "array(['This book was very suspenseful, exciting and funny. I hope you have  another book with Alabama in it.I off to read more of your books..'],\n",
              "      dtype='<U7578')"
            ]
          },
          "metadata": {
            "tags": []
          },
          "execution_count": 8
        }
      ]
    },
    {
      "cell_type": "code",
      "metadata": {
        "id": "GrgSCWDcupuC",
        "colab": {
          "base_uri": "https://localhost:8080/"
        },
        "outputId": "f34074cb-1127-4eda-b5cb-c74214918a10"
      },
      "source": [
        "#DECISION TREE\n",
        "\n",
        "from sklearn.tree import DecisionTreeClassifier\n",
        "\n",
        "tree_model= DecisionTreeClassifier()\n",
        "tree_model.fit(BOW_X_train, Y_train)\n",
        "print(X_test[15])\n",
        "tree_model.predict(BOW_X_test)"
      ],
      "execution_count": null,
      "outputs": [
        {
          "output_type": "stream",
          "text": [
            "Again a masterful telling of a story.  My only regret is that I have to wait until Oct. 28th to find out the ending.  Well done!\n"
          ],
          "name": "stdout"
        },
        {
          "output_type": "execute_result",
          "data": {
            "text/plain": [
              "array(['This writer has managed to write a compelling True story about thelife of a police force and their humanity in performing their duties!His presentation  was quite good and his written word left meanticipating the outcome.',\n",
              "       \"Sam, is this amazing Divorce attorney who has sworn off vanilla men, and needs a man who is strong enough to take her down and demand her submission. Enter Ethan, another martial artist is perfect for her, he has the right amount of dominance and sadism to suit Sam's masochistic submissive tendencies. I adored these two because they communicate and negotiate about everything.Which you'd think would pull you out of the story but it works for this story amazingly. I loved that this book managed to be shorter, yet left me extremely satisfied at the end. I really look forward to reading more by this great author.\",\n",
              "       'i never read it', ...,\n",
              "       'I have read all of the Reacher stories and have never been disappointed.  Always interesting characters, all believeable.  The plots are varied and keep you wondering what is next.',\n",
              "       'i never read it',\n",
              "       \"If they consolidate this series into one book and it's 99 cents give it a read, otherwise expect nothing new in the formula.\"],\n",
              "      dtype='<U7578')"
            ]
          },
          "metadata": {
            "tags": []
          },
          "execution_count": 9
        }
      ]
    },
    {
      "cell_type": "code",
      "metadata": {
        "id": "R85QSUDCOHiN",
        "colab": {
          "base_uri": "https://localhost:8080/"
        },
        "outputId": "b5479b48-d16a-4374-b92d-aafb0335633d"
      },
      "source": [
        "#NAIVE BAYES\n",
        "\n",
        "from sklearn.naive_bayes import GaussianNB\n",
        "\n",
        "nb_model= GaussianNB()\n",
        "nb_model.fit(BOW_X_train.toarray(),Y_train)\n",
        "print(X_test[15])\n",
        "nb_model.predict(BOW_X_test.toarray())\n",
        "\n"
      ],
      "execution_count": null,
      "outputs": [
        {
          "output_type": "stream",
          "text": [
            "Again a masterful telling of a story.  My only regret is that I have to wait until Oct. 28th to find out the ending.  Well done!\n"
          ],
          "name": "stdout"
        },
        {
          "output_type": "execute_result",
          "data": {
            "text/plain": [
              "array([\"This book was a big disappointment to me.  I have read most of Melissa Foster's books and enjoyed them greatly.  This one dragged on and on and was soooo predictable.  If this is the first of hers that you have read, you should read her series books and they will keep you interested and give you a great read.\",\n",
              "       'This book was very suspenseful, exciting and funny. I hope you have  another book with Alabama in it.I off to read more of your books..',\n",
              "       \"Excellent children's story. Read it to children, now to grandchildren.\",\n",
              "       ..., 'Great read and I coul not put it down!',\n",
              "       'I recommend this book to everyone. The effects of global warming become part of the plot and adventures.  I look forward to residing the entire series.',\n",
              "       'This is the second Romulus Buckle novel and I found it to be even stronger than the first.  The characters seemed more three dimensional and engaging; I cared more about them.  The airship battles (steam powered, of course) were thrilling, even though there was never any real doubt that our dashing hero would triumph.  Once again the author pulled off the feat too often missed in series: the story arc is satisfying, while leaving mysteries to be resolved and the ground well laid for the next installment.  Sadly that is not yet available, or I would plunge right into it.  Very enjoyable (keep in mind that I am a fan of sci-fi, fantasy, and steampunk; readers who are not enthusiastic about these genres might want to choose a different book).'],\n",
              "      dtype='<U7578')"
            ]
          },
          "metadata": {
            "tags": []
          },
          "execution_count": 10
        }
      ]
    },
    {
      "cell_type": "code",
      "metadata": {
        "id": "DAtRMVv3E6P-"
      },
      "source": [
        "#LOGISTIC REGRESSION\n",
        "\n",
        "from sklearn.linear_model import LogisticRegression\n",
        "lr_model= LogisticRegression()\n",
        "lr_model.fit(BOW_X_train.toarray(),Y_train)\n",
        "print(X_test[15])\n",
        "lr_model.predict(BOW_X_test.toarray())"
      ],
      "execution_count": null,
      "outputs": []
    },
    {
      "cell_type": "markdown",
      "metadata": {
        "id": "vtEJ_Vk0AppV"
      },
      "source": [
        "Evaluating!"
      ]
    },
    {
      "cell_type": "code",
      "metadata": {
        "id": "dcUHzBG22S04"
      },
      "source": [
        " # passing data to use for testing and Y_test for comparing\n",
        " #JUST THE ACCURACY\n",
        "# print(type(BOW_X_train))\n",
        " #BOW_X_test.shape\n",
        " print(svm_model.score(BOW_X_test, Y_test))\n",
        " print(tree_model.score(BOW_X_test, Y_test))\n",
        " print(nb_model.score(BOW_X_test.toarray(), Y_test))\n",
        " #print(lr_model.score(BOW_X_test, Y_test))\n"
      ],
      "execution_count": null,
      "outputs": []
    },
    {
      "cell_type": "code",
      "metadata": {
        "id": "FCnrjTB8B5yi"
      },
      "source": [
        "#F1 SCORES; scores from 0-1, 1 being best\n",
        "from sklearn.metrics import f1_score\n",
        "print(f1_score(Y_test,svm_model.predict(BOW_X_test), average= None, labels=[Sentiment.positive,Sentiment.neutral,Sentiment.negative] ))\n",
        "print(f1_score(Y_test,tree_model.predict(BOW_X_test), average= None, labels=[Sentiment.positive,Sentiment.neutral,Sentiment.negative] ))\n",
        "# works good on positive but not negative and neutral data\n"
      ],
      "execution_count": null,
      "outputs": []
    },
    {
      "cell_type": "code",
      "metadata": {
        "id": "JGnhFctTFWHJ"
      },
      "source": [
        "\n"
      ],
      "execution_count": null,
      "outputs": []
    },
    {
      "cell_type": "code",
      "metadata": {
        "id": "dhC7xTjqHPic"
      },
      "source": [
        ""
      ],
      "execution_count": null,
      "outputs": []
    }
  ]
}